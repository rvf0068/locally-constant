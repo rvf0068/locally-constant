{
 "cells": [
  {
   "cell_type": "code",
   "execution_count": 1,
   "metadata": {},
   "outputs": [],
   "source": [
    "Read(\"LoadLoc.g\");"
   ]
  },
  {
   "cell_type": "code",
   "execution_count": 2,
   "metadata": {},
   "outputs": [
    {
     "data": {
      "text/plain": [
       "<object>"
      ]
     },
     "execution_count": 2,
     "metadata": {
      "text/plain": ""
     },
     "output_type": "execute_result"
    }
   ],
   "source": [
    "c5:=CycleGraph(5);"
   ]
  },
  {
   "cell_type": "code",
   "execution_count": 2,
   "metadata": {},
   "outputs": [
    {
     "name": "stdout",
     "output_type": "stream",
     "text": [
      "Queued: 1 Orders: 12x1             \r"
     ]
    },
    {
     "name": "stderr",
     "output_type": "stream",
     "text": [
      "Error, PrintTo: cannot open '/dev/tty' for output in\n",
      "  CallFuncList( PRINT_TO, arg ); at /home/gap/inst/gap-4.11.0/lib/streams.gd:1050 called from \n",
      "PrintTo( AuxInfo1, \"\\n\" ); at GenLoc.g:334 called from\n",
      "<function \"GenLoc\">( <arguments> )\n",
      " called from read-eval loop at stream:1\n"
     ]
    }
   ],
   "source": [
    "genloc:=GenLoc(c5);"
   ]
  },
  {
   "cell_type": "code",
   "execution_count": null,
   "metadata": {},
   "outputs": [
    {
     "name": "stderr",
     "output_type": "stream",
     "text": [
      "Error, Variable: 'genloc' must have a value\n",
      "not in any function at stream:1\n"
     ]
    }
   ],
   "source": [
    "genloc"
   ]
  },
  {
   "cell_type": "code",
   "execution_count": null,
   "metadata": {},
   "outputs": [],
   "source": []
  }
 ],
 "metadata": {
  "kernelspec": {
   "display_name": "GAP 4",
   "language": "gap",
   "name": "gap-4"
  },
  "language_info": {
   "codemirror_mode": "gap",
   "file_extension": ".g",
   "mimetype": "text/x-gap",
   "name": "GAP 4",
   "nbconvert_exporter": "",
   "pygments_lexer": "gap",
   "version": "4.11.0"
  }
 },
 "nbformat": 4,
 "nbformat_minor": 2
}
